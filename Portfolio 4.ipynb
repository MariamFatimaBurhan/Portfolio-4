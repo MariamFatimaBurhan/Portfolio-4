{
 "cells": [
  {
   "attachments": {},
   "cell_type": "markdown",
   "id": "9e564d49",
   "metadata": {},
   "source": [
    "## Walmart Data Analysis and Forcasting\n",
    "\n",
    "A retail store that has multiple outlets across the country are facing issues in managing the\n",
    "inventory - to match the demand with respect to supply. You are a data scientist, who has to\n",
    "come up with useful insights using the data and make prediction models to forecast the sales for\n",
    "X number of months/years.\n",
    "\n",
    "-Store:\tThis is the store number for identifying each store\n",
    "-Date: This refers to  week of sales\n",
    "-Weekly_Sales: This refers to sales for the given store in that week\n",
    "-Holiday_Flag: This is the label. Its value is 1 if If it is a holiday week and 0 otherwise.\n",
    "-Temperature: This refers to Temperature on the day of the sale\n",
    "-Fuel_Price: This refers to Cost of the fuel in the region\n",
    "-CPI: Consumer Price Index\n",
    "-Unemployment:"
   ]
  }
 ],
 "metadata": {
  "kernelspec": {
   "display_name": "Python 3 (ipykernel)",
   "language": "python",
   "name": "python3"
  },
  "language_info": {
   "codemirror_mode": {
    "name": "ipython",
    "version": 3
   },
   "file_extension": ".py",
   "mimetype": "text/x-python",
   "name": "python",
   "nbconvert_exporter": "python",
   "pygments_lexer": "ipython3",
   "version": "3.9.13"
  }
 },
 "nbformat": 4,
 "nbformat_minor": 5
}
